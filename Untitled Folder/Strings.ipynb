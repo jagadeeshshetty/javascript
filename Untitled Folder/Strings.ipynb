{
 "cells": [
  {
   "cell_type": "markdown",
   "id": "7119df36",
   "metadata": {},
   "source": [
    "# Strings in JS\n",
    "16 Feb 2023\n",
    "\n",
    "Author: Jagadeesh C"
   ]
  },
  {
   "cell_type": "markdown",
   "id": "f8769917",
   "metadata": {},
   "source": [
    "<img src=\"https://upload.wikimedia.org/wikipedia/commons/thumb/9/99/Unofficial_JavaScript_logo_2.svg/1024px-Unofficial_JavaScript_logo_2.svg.png?20141107110902\"  width=\"256\" height=\"256\">\n",
    "\n",
    "<img src=\"https://files.realpython.com/media/Strings-and-Character-Data-in-Python_Watermarked.797803948b10.jpg\" width=\"512\">"
   ]
  },
  {
   "cell_type": "code",
   "execution_count": 5,
   "id": "6bf32912",
   "metadata": {},
   "outputs": [],
   "source": [
    "var abc = \"abcdefghijklmnopqrstuvwxyz\";"
   ]
  },
  {
   "cell_type": "code",
   "execution_count": 9,
   "id": "81a1dad2",
   "metadata": {},
   "outputs": [
    {
     "name": "stdout",
     "output_type": "stream",
     "text": [
      "abcdefghijklmnopqrstuvwxyz\n"
     ]
    }
   ],
   "source": [
    "console.log(abc)"
   ]
  },
  {
   "cell_type": "code",
   "execution_count": 3,
   "id": "3e8662ff",
   "metadata": {},
   "outputs": [],
   "source": [
    "var esc = 'I don\\'t \\n know';   // \\n new line"
   ]
  },
  {
   "cell_type": "code",
   "execution_count": 8,
   "id": "00c8edd9",
   "metadata": {},
   "outputs": [
    {
     "name": "stdout",
     "output_type": "stream",
     "text": [
      "I don't \n",
      " know\n"
     ]
    }
   ],
   "source": [
    "console.log(esc)"
   ]
  },
  {
   "cell_type": "code",
   "execution_count": 11,
   "id": "cefe6cc1",
   "metadata": {},
   "outputs": [],
   "source": [
    "var len = abc.length;           // string length"
   ]
  },
  {
   "cell_type": "code",
   "execution_count": 12,
   "id": "c9ec93c6",
   "metadata": {},
   "outputs": [
    {
     "name": "stdout",
     "output_type": "stream",
     "text": [
      "26\n"
     ]
    }
   ],
   "source": [
    "console.log(len)"
   ]
  },
  {
   "cell_type": "markdown",
   "id": "8f899d47",
   "metadata": {},
   "source": [
    "|a|b|c|d|e|f|g|h|i|j|k|l|m|n|o|p|q|r|s|t|u|v|w|x|y|z|\n",
    "|-|-|-|-|-|-|-|-|-|-|-|-|-|-|-|-|-|-|-|-|-||-|-|-|-|\n",
    "|0|1|2|3|4|5|6|7|8|9|10|11|12|13|14|15|16|17|18|19|20|21|22|23|24|25|26|\n"
   ]
  },
  {
   "cell_type": "code",
   "execution_count": 46,
   "id": "cf11622e",
   "metadata": {},
   "outputs": [
    {
     "data": {
      "text/plain": [
       "'abcdefghijklmnopqrstuvwxyz - These are 26 Alphabets.'"
      ]
     },
     "execution_count": 46,
     "metadata": {},
     "output_type": "execute_result"
    }
   ],
   "source": [
    "var str2 = \"- These are 26 Alphabets.\"\n",
    "abc.concat(\" \", str2);          // abc + \" \" + str2"
   ]
  },
  {
   "cell_type": "code",
   "execution_count": 13,
   "id": "125980af",
   "metadata": {},
   "outputs": [
    {
     "data": {
      "text/plain": [
       "11"
      ]
     },
     "execution_count": 13,
     "metadata": {},
     "output_type": "execute_result"
    }
   ],
   "source": [
    "abc.indexOf(\"lmno\");            // find substring, -1 if doesn't contain"
   ]
  },
  {
   "cell_type": "code",
   "execution_count": 15,
   "id": "6e43d360",
   "metadata": {},
   "outputs": [
    {
     "data": {
      "text/plain": [
       "11"
      ]
     },
     "execution_count": 15,
     "metadata": {},
     "output_type": "execute_result"
    }
   ],
   "source": [
    "abc.lastIndexOf(\"lmno\");        // last occurance"
   ]
  },
  {
   "cell_type": "code",
   "execution_count": 17,
   "id": "977e495d",
   "metadata": {},
   "outputs": [
    {
     "data": {
      "text/plain": [
       "'def'"
      ]
     },
     "execution_count": 17,
     "metadata": {},
     "output_type": "execute_result"
    }
   ],
   "source": [
    "abc.slice(3, 6);                // cuts out \"def\", negative values count from behind"
   ]
  },
  {
   "cell_type": "code",
   "execution_count": 44,
   "id": "79499c88",
   "metadata": {},
   "outputs": [
    {
     "data": {
      "text/plain": [
       "'xyz'"
      ]
     },
     "execution_count": 44,
     "metadata": {},
     "output_type": "execute_result"
    }
   ],
   "source": [
    "abc.slice(-3)"
   ]
  },
  {
   "cell_type": "code",
   "execution_count": 23,
   "id": "80fbfc87",
   "metadata": {},
   "outputs": [
    {
     "data": {
      "text/plain": [
       "'ABCDEFGHIJKLMNOPQRSTUVWXYZ'"
      ]
     },
     "execution_count": 23,
     "metadata": {},
     "output_type": "execute_result"
    }
   ],
   "source": [
    "abc.toUpperCase();              // convert to upper case"
   ]
  },
  {
   "cell_type": "code",
   "execution_count": 24,
   "id": "6db01036",
   "metadata": {},
   "outputs": [
    {
     "data": {
      "text/plain": [
       "'abcdefghijklmnopqrstuvwxyz'"
      ]
     },
     "execution_count": 24,
     "metadata": {},
     "output_type": "execute_result"
    }
   ],
   "source": [
    "abc.toLowerCase();              // convert to lower case"
   ]
  },
  {
   "cell_type": "code",
   "execution_count": 28,
   "id": "b951a932",
   "metadata": {},
   "outputs": [
    {
     "data": {
      "text/plain": [
       "'c'"
      ]
     },
     "execution_count": 28,
     "metadata": {},
     "output_type": "execute_result"
    }
   ],
   "source": [
    "abc.charAt(2);                  // character at index: \"c\""
   ]
  },
  {
   "cell_type": "code",
   "execution_count": 29,
   "id": "d1850cbf",
   "metadata": {},
   "outputs": [
    {
     "data": {
      "text/plain": [
       "'c'"
      ]
     },
     "execution_count": 29,
     "metadata": {},
     "output_type": "execute_result"
    }
   ],
   "source": [
    "abc[2];                         // unsafe, abc[2] = \"C\" doesn't work"
   ]
  },
  {
   "cell_type": "code",
   "execution_count": 32,
   "id": "9a452aac",
   "metadata": {},
   "outputs": [
    {
     "data": {
      "text/plain": [
       "99"
      ]
     },
     "execution_count": 32,
     "metadata": {},
     "output_type": "execute_result"
    }
   ],
   "source": [
    "abc.charCodeAt(2);              // character code at index: \"c\" -> 99"
   ]
  },
  {
   "cell_type": "code",
   "execution_count": 33,
   "id": "fcfe6361",
   "metadata": {},
   "outputs": [
    {
     "data": {
      "text/plain": [
       "[ 'abcdefghijklmnopqrstuvwxyz' ]"
      ]
     },
     "execution_count": 33,
     "metadata": {},
     "output_type": "execute_result"
    }
   ],
   "source": [
    "abc.split(\",\");                 // splitting a string on commas gives an array"
   ]
  },
  {
   "cell_type": "code",
   "execution_count": 34,
   "id": "19e0afb5",
   "metadata": {},
   "outputs": [
    {
     "data": {
      "text/plain": [
       "[\n",
       "  'a', 'b', 'c', 'd', 'e', 'f',\n",
       "  'g', 'h', 'i', 'j', 'k', 'l',\n",
       "  'm', 'n', 'o', 'p', 'q', 'r',\n",
       "  's', 't', 'u', 'v', 'w', 'x',\n",
       "  'y', 'z'\n",
       "]"
      ]
     },
     "execution_count": 34,
     "metadata": {},
     "output_type": "execute_result"
    }
   ],
   "source": [
    "abc.split(\"\");                  // splitting on characters"
   ]
  },
  {
   "cell_type": "code",
   "execution_count": 37,
   "id": "28a2ae69",
   "metadata": {},
   "outputs": [
    {
     "data": {
      "text/plain": [
       "'80'"
      ]
     },
     "execution_count": 37,
     "metadata": {},
     "output_type": "execute_result"
    }
   ],
   "source": [
    "var num = 128\n",
    "num.toString(16);               // number to hex(16), octal (8)"
   ]
  },
  {
   "cell_type": "code",
   "execution_count": 18,
   "id": "a66a720c",
   "metadata": {},
   "outputs": [
    {
     "data": {
      "text/plain": [
       "'123defghijklmnopqrstuvwxyz'"
      ]
     },
     "execution_count": 18,
     "metadata": {},
     "output_type": "execute_result"
    }
   ],
   "source": [
    "abc.replace(\"abc\",\"123\");       // find and replace, takes regular expressions"
   ]
  },
  {
   "cell_type": "markdown",
   "id": "1e71659c",
   "metadata": {},
   "source": [
    "|1|2|3|d|e|f|g|h|i|j|k|l|m|n|o|p|q|r|s|t|u|v|w|x|y|z|\n",
    "|-|-|-|-|-|-|-|-|-|-|-|-|-|-|-|-|-|-|-|-|-||-|-|-|-|\n",
    "|0|1|2|3|4|5|6|7|8|9|10|11|12|13|14|15|16|17|18|19|20|21|22|23|24|25|26|\n"
   ]
  },
  {
   "cell_type": "markdown",
   "id": "4f007af1",
   "metadata": {},
   "source": [
    "#### Reference\n",
    "\n",
    "- [JS Cheetsheet](https://htmlcheatsheet.com/js/)"
   ]
  },
  {
   "cell_type": "code",
   "execution_count": null,
   "id": "20f075ee",
   "metadata": {},
   "outputs": [],
   "source": []
  }
 ],
 "metadata": {
  "kernelspec": {
   "display_name": "JavaScript (Node.js)",
   "language": "javascript",
   "name": "javascript"
  },
  "language_info": {
   "file_extension": ".js",
   "mimetype": "application/javascript",
   "name": "javascript",
   "version": "19.4.0"
  }
 },
 "nbformat": 4,
 "nbformat_minor": 5
}
