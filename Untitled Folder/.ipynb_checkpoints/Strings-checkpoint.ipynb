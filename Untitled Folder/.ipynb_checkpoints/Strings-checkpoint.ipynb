{
 "cells": [
  {
   "cell_type": "markdown",
   "id": "5e6abd03",
   "metadata": {},
   "source": [
    "# Strings in JS"
   ]
  },
  {
   "cell_type": "code",
   "execution_count": 5,
   "id": "4646a220",
   "metadata": {},
   "outputs": [],
   "source": [
    "var abc = \"abcdefghijklmnopqrstuvwxyz\";"
   ]
  },
  {
   "cell_type": "code",
   "execution_count": 9,
   "id": "1dffc1b6",
   "metadata": {},
   "outputs": [
    {
     "name": "stdout",
     "output_type": "stream",
     "text": [
      "abcdefghijklmnopqrstuvwxyz\n"
     ]
    }
   ],
   "source": [
    "console.log(abc)"
   ]
  },
  {
   "cell_type": "code",
   "execution_count": 3,
   "id": "3bba6c17",
   "metadata": {},
   "outputs": [],
   "source": [
    "var esc = 'I don\\'t \\n know';   // \\n new line"
   ]
  },
  {
   "cell_type": "code",
   "execution_count": 8,
   "id": "437d38a8",
   "metadata": {},
   "outputs": [
    {
     "name": "stdout",
     "output_type": "stream",
     "text": [
      "I don't \n",
      " know\n"
     ]
    }
   ],
   "source": [
    "console.log(esc)"
   ]
  },
  {
   "cell_type": "code",
   "execution_count": 11,
   "id": "e1227d3d",
   "metadata": {},
   "outputs": [],
   "source": [
    "var len = abc.length;           // string length"
   ]
  },
  {
   "cell_type": "code",
   "execution_count": 12,
   "id": "eefac393",
   "metadata": {},
   "outputs": [
    {
     "name": "stdout",
     "output_type": "stream",
     "text": [
      "26\n"
     ]
    }
   ],
   "source": [
    "console.log(len)"
   ]
  },
  {
   "cell_type": "code",
   "execution_count": 13,
   "id": "89aa8ff9",
   "metadata": {},
   "outputs": [
    {
     "data": {
      "text/plain": [
       "11"
      ]
     },
     "execution_count": 13,
     "metadata": {},
     "output_type": "execute_result"
    }
   ],
   "source": [
    "abc.indexOf(\"lmno\");            // find substring, -1 if doesn't contain"
   ]
  },
  {
   "cell_type": "markdown",
   "id": "96739a5e",
   "metadata": {},
   "source": [
    "|a|b|c|d|e|f|g|h|i|j|k|l|m|n|o|p|q|r|s|t|u|v|w|x|y|z|\n",
    "|-|-|-|-|-|-|-|-|-|-|-|-|-|-||-|-|-|-|-|-|-||-|-|-|-|\n",
    "|0|1|2|3|4|5|6|7|8|9|10|11|12|13|14|15|16|17|18|19|20|21|22|23|24|25|26\n"
   ]
  },
  {
   "cell_type": "code",
   "execution_count": null,
   "id": "89e95f2f",
   "metadata": {},
   "outputs": [],
   "source": []
  }
 ],
 "metadata": {
  "kernelspec": {
   "display_name": "JavaScript (Node.js)",
   "language": "javascript",
   "name": "javascript"
  },
  "language_info": {
   "file_extension": ".js",
   "mimetype": "application/javascript",
   "name": "javascript",
   "version": "19.4.0"
  }
 },
 "nbformat": 4,
 "nbformat_minor": 5
}
