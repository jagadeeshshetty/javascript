{
 "cells": [
  {
   "attachments": {},
   "cell_type": "markdown",
   "metadata": {},
   "source": [
    "# Higher Order Functions"
   ]
  },
  {
   "cell_type": "code",
   "execution_count": 1,
   "metadata": {},
   "outputs": [],
   "source": [
    "const companies= [\n",
    "  {name: \"Company One\", category: \"Finance\", start: 1981, end: 2004},\n",
    "  {name: \"Company Two\", category: \"Retail\", start: 1992, end: 2008},\n",
    "  {name: \"Company Three\", category: \"Auto\", start: 1999, end: 2007},\n",
    "  {name: \"Company Four\", category: \"Retail\", start: 1989, end: 2010},\n",
    "  {name: \"Company Five\", category: \"Technology\", start: 2009, end: 2014},\n",
    "  {name: \"Company Six\", category: \"Finance\", start: 1987, end: 2010},\n",
    "  {name: \"Company Seven\", category: \"Auto\", start: 1986, end: 1996},\n",
    "  {name: \"Company Eight\", category: \"Technology\", start: 2011, end: 2016},\n",
    "  {name: \"Company Nine\", category: \"Retail\", start: 1981, end: 1989}\n",
    "];\n",
    "\n",
    "const ages = [33, 12, 20, 16, 5, 54, 21, 44, 61, 13, 15, 45, 25, 64, 32];"
   ]
  },
  {
   "cell_type": "code",
   "execution_count": 2,
   "metadata": {},
   "outputs": [
    {
     "name": "stdout",
     "output_type": "stream",
     "text": [
      "[\n",
      "  { name: 'Company Two', category: 'Retail', start: 1992, end: 2008 },\n",
      "  { name: 'Company Four', category: 'Retail', start: 1989, end: 2010 },\n",
      "  { name: 'Company Nine', category: 'Retail', start: 1981, end: 1989 }\n",
      "]\n"
     ]
    }
   ],
   "source": [
    "// Filter retail companies using for loop\n",
    "let retailCompaniesArray = []\n",
    "\n",
    "for(let i=0; i < companies.length; i++) {\n",
    "  if(companies[i].category === \"Retail\") {\n",
    "    retailCompaniesArray.push(companies[i]);\n",
    "  }\n",
    "}\n",
    "\n",
    "console.log(retailCompaniesArray);"
   ]
  },
  {
   "cell_type": "code",
   "execution_count": 2,
   "metadata": {},
   "outputs": [
    {
     "name": "stdout",
     "output_type": "stream",
     "text": [
      "[\n",
      "  { name: 'Company Two', category: 'Retail', start: 1992, end: 2008 },\n",
      "  { name: 'Company Four', category: 'Retail', start: 1989, end: 2010 },\n",
      "  { name: 'Company Nine', category: 'Retail', start: 1981, end: 1989 }\n",
      "]\n"
     ]
    }
   ],
   "source": [
    "// Filter retail companies using 'filter' method in ES5\n",
    "const retailCompanies = companies.filter(function (company) {\n",
    "  if (company.category === \"Retail\") {\n",
    "    return true;\n",
    "  }\n",
    "});\n",
    "\n",
    "console.log(retailCompanies);"
   ]
  },
  {
   "cell_type": "code",
   "execution_count": 3,
   "metadata": {},
   "outputs": [
    {
     "name": "stdout",
     "output_type": "stream",
     "text": [
      "[\n",
      "  { name: 'Company Two', category: 'Retail', start: 1992, end: 2008 },\n",
      "  { name: 'Company Four', category: 'Retail', start: 1989, end: 2010 },\n",
      "  { name: 'Company Nine', category: 'Retail', start: 1981, end: 1989 }\n",
      "]\n"
     ]
    }
   ],
   "source": [
    "// Filter retail companies using 'filter' method in ES6\n",
    "const retailCompanies2 = companies.filter(company => company.category === \"Retail\");\n",
    "\n",
    "console.log(retailCompanies2);"
   ]
  },
  {
   "attachments": {},
   "cell_type": "markdown",
   "metadata": {},
   "source": [
    "## Reference\n",
    "\n",
    "- [JavaScript Higher Order Functions & Arrays](https://www.youtube.com/watch?v=rRgD1yVwIvE)"
   ]
  },
  {
   "cell_type": "markdown",
   "metadata": {},
   "source": []
  }
 ],
 "metadata": {
  "kernelspec": {
   "display_name": "JavaScript (Node.js)",
   "language": "javascript",
   "name": "javascript"
  },
  "language_info": {
   "file_extension": ".js",
   "mimetype": "application/javascript",
   "name": "javascript",
   "version": "19.4.0"
  },
  "orig_nbformat": 4,
  "vscode": {
   "interpreter": {
    "hash": "b0fa6594d8f4cbf19f97940f81e996739fb7646882a419484c72d19e05852a7e"
   }
  }
 },
 "nbformat": 4,
 "nbformat_minor": 2
}
